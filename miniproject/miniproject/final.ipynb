{
 "cells": [
  {
   "cell_type": "code",
   "execution_count": 19,
   "metadata": {},
   "outputs": [],
   "source": [
    "from sklearn.feature_extraction.text import CountVectorizer"
   ]
  },
  {
   "cell_type": "code",
   "execution_count": 20,
   "metadata": {},
   "outputs": [],
   "source": [
    "vectorizer = CountVectorizer()"
   ]
  },
  {
   "cell_type": "code",
   "execution_count": 21,
   "metadata": {},
   "outputs": [],
   "source": [
    "claim = [\"The text that has to be fact checked\",\"This is the body of the article that has to be checked\"]\n",
    "String1 = \"Hi bibek the package will be late best wishes\"\n",
    "String2 = \"Hi bibek the machine learning class will be great great great best wishes\"\n",
    "String3 = \"Hi unknow the machine learning class is going great\""
   ]
  },
  {
   "cell_type": "code",
   "execution_count": 22,
   "metadata": {},
   "outputs": [],
   "source": [
    "#email_list = [String1,String2,String3]"
   ]
  },
  {
   "cell_type": "code",
   "execution_count": 23,
   "metadata": {},
   "outputs": [],
   "source": [
    "source_bag = vectorizer.fit(claim)\n",
    "source_bag = vectorizer.transform(claim)\n",
    "#bag_of_words = vectorizer.fit(email_list)\n",
    "#bag_of_words = vectorizer.transform(email_list)"
   ]
  },
  {
   "cell_type": "code",
   "execution_count": 32,
   "metadata": {},
   "outputs": [
    {
     "name": "stdout",
     "output_type": "stream",
     "text": [
      "  (0, 1)\t1\n",
      "  (0, 3)\t1\n",
      "  (0, 4)\t1\n",
      "  (0, 5)\t1\n",
      "  (0, 8)\t1\n",
      "  (0, 9)\t1\n",
      "  (0, 10)\t1\n",
      "  (0, 12)\t1\n",
      "  (1, 0)\t1\n",
      "  (1, 1)\t1\n",
      "  (1, 2)\t1\n",
      "  (1, 3)\t1\n",
      "  (1, 5)\t1\n",
      "  (1, 6)\t1\n",
      "  (1, 7)\t1\n",
      "  (1, 9)\t1\n",
      "  (1, 10)\t2\n",
      "  (1, 11)\t1\n",
      "  (1, 12)\t1\n",
      "['article', 'be', 'body', 'checked', 'fact', 'has', 'is', 'of', 'text', 'that', 'the', 'this', 'to']\n"
     ]
    }
   ],
   "source": [
    "#print(bag_of_words)\n",
    "print(source_bag)\n",
    "source_feature = vectorizer.get_feature_names()\n",
    "print(source_feature)"
   ]
  },
  {
   "cell_type": "code",
   "execution_count": 35,
   "metadata": {},
   "outputs": [],
   "source": [
    "article1 = \"The body has to be checked for content and verified\"\n",
    "article2 = \"The second body has to checked and veriified for authenticity\""
   ]
  },
  {
   "cell_type": "code",
   "execution_count": 38,
   "metadata": {},
   "outputs": [
    {
     "name": "stdout",
     "output_type": "stream",
     "text": [
      "['and', 'authenticity', 'be', 'body', 'checked', 'content', 'for', 'has', 'second', 'the', 'to', 'verified', 'veriified']\n"
     ]
    }
   ],
   "source": [
    "articles = [article1,article2]\n",
    "source_article = vectorizer.fit(articles)\n",
    "source_article = vectorizer.transform(articles)\n",
    "article_feature = vectorizer.get_feature_names()\n",
    "print(article_feature)"
   ]
  },
  {
   "cell_type": "code",
   "execution_count": null,
   "metadata": {},
   "outputs": [],
   "source": []
  },
  {
   "cell_type": "code",
   "execution_count": null,
   "metadata": {},
   "outputs": [],
   "source": []
  }
 ],
 "metadata": {
  "kernelspec": {
   "display_name": "Python 3",
   "language": "python",
   "name": "python3"
  },
  "language_info": {
   "codemirror_mode": {
    "name": "ipython",
    "version": 3
   },
   "file_extension": ".py",
   "mimetype": "text/x-python",
   "name": "python",
   "nbconvert_exporter": "python",
   "pygments_lexer": "ipython3",
   "version": "3.7.4"
  }
 },
 "nbformat": 4,
 "nbformat_minor": 2
}
