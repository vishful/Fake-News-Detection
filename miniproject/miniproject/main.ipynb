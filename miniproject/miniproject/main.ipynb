{
 "cells": [
  {
   "cell_type": "code",
   "execution_count": 13,
   "metadata": {},
   "outputs": [],
   "source": [
    "from sklearn.feature_extraction.text import CountVectorizer\n",
    "from sklearn.feature_extraction.text import TfidfVectorizer\n",
    "from sklearn.metrics.pairwise import cosine_similarity\n",
    "import pandas as pd\n",
    "import numpy as np\n",
    "import math\n",
    "import csv"
   ]
  },
  {
   "cell_type": "code",
   "execution_count": 14,
   "metadata": {},
   "outputs": [
    {
     "ename": "FileNotFoundError",
     "evalue": "[Errno 2] No such file or directory: 'titleclaim.csv'",
     "output_type": "error",
     "traceback": [
      "\u001b[0;31m---------------------------------------------------------------------------\u001b[0m",
      "\u001b[0;31mFileNotFoundError\u001b[0m                         Traceback (most recent call last)",
      "\u001b[0;32m<ipython-input-14-4104e1ff5105>\u001b[0m in \u001b[0;36m<module>\u001b[0;34m\u001b[0m\n\u001b[0;32m----> 1\u001b[0;31m \u001b[0;32mwith\u001b[0m \u001b[0mopen\u001b[0m\u001b[0;34m(\u001b[0m\u001b[0;34m'titleclaim.csv'\u001b[0m\u001b[0;34m,\u001b[0m\u001b[0;34m'r'\u001b[0m\u001b[0;34m)\u001b[0m \u001b[0;32mas\u001b[0m \u001b[0mtitle\u001b[0m\u001b[0;34m:\u001b[0m\u001b[0;34m\u001b[0m\u001b[0;34m\u001b[0m\u001b[0m\n\u001b[0m\u001b[1;32m      2\u001b[0m     \u001b[0mhead\u001b[0m \u001b[0;34m=\u001b[0m \u001b[0mcsv\u001b[0m\u001b[0;34m.\u001b[0m\u001b[0mreader\u001b[0m\u001b[0;34m(\u001b[0m\u001b[0mtitle\u001b[0m\u001b[0;34m)\u001b[0m\u001b[0;34m\u001b[0m\u001b[0;34m\u001b[0m\u001b[0m\n\u001b[1;32m      3\u001b[0m \u001b[0;32mwith\u001b[0m \u001b[0mopen\u001b[0m\u001b[0;34m(\u001b[0m\u001b[0;34m'bodyclaim.csv'\u001b[0m\u001b[0;34m,\u001b[0m\u001b[0;34m'r'\u001b[0m\u001b[0;34m)\u001b[0m \u001b[0;32mas\u001b[0m \u001b[0mtext\u001b[0m\u001b[0;34m:\u001b[0m\u001b[0;34m\u001b[0m\u001b[0;34m\u001b[0m\u001b[0m\n\u001b[1;32m      4\u001b[0m     \u001b[0mbody\u001b[0m \u001b[0;34m=\u001b[0m \u001b[0mcsv\u001b[0m\u001b[0;34m.\u001b[0m\u001b[0mreader\u001b[0m\u001b[0;34m(\u001b[0m\u001b[0mtext\u001b[0m\u001b[0;34m)\u001b[0m\u001b[0;34m\u001b[0m\u001b[0;34m\u001b[0m\u001b[0m\n\u001b[1;32m      5\u001b[0m \u001b[0;34m\u001b[0m\u001b[0m\n",
      "\u001b[0;31mFileNotFoundError\u001b[0m: [Errno 2] No such file or directory: 'titleclaim.csv'"
     ]
    }
   ],
   "source": [
    "with open('titleclaim.csv','r') as title:\n",
    "    head = csv.reader(title)\n",
    "with open('bodyclaim.csv','r') as text:\n",
    "    body = csv.reader(text) "
   ]
  },
  {
   "cell_type": "code",
   "execution_count": 15,
   "metadata": {},
   "outputs": [],
   "source": [
    "headline = \"Two Altar Boys Arrested for Putting Weed in the Censer Burner\"\n",
    "body = \"\"\"What started as a joke ended with the future of two altar boys from Spain. They were detained overnight, after having surprised them putting weed in the censer-burner of the Cathedral of Santiago de Compostela.\n",
    "The censer-burner is used the Cathedral of Santiago de Compostela to celebrate the Epiphany of the Lord. Several assistants stated that in this occasion the holy precinct was suddenly covered in an odd smell “it did not smell as always, it was a familiar smell but I could not relate it to anything, but in my son’s bedroom sometimes smell like that”.\n",
    "Following the Mass, these altar boys were arrested by the police after confirming that the strange smell was correspond to marijuana, “it was a joke, the idea came during the Christmas Eve mass, we bought no more than half a kilo of Mary Jane and we drop it inside the censer-burner, we are sure that people has left of the Cathedral happier more than ever”. Finally, they were freed without charge but they will not be able to discharge their functions as altar boys any more.\"\"\"\n",
    "diff1 =  \"\"\"What started as a joke ended with the future of two altar boys from Spain. They were detained overnight, after having surprised them putting weed in the censer-burner of the Cathedral of Santiago de Compostela.\n",
    "The censer-burner is used the Cathedral of Santiago de Compostela to celebrate the Epiphany of the Lord. Several assistants stated that in this occasion the holy precinct was suddenly covered in an odd smell “it did not smell as always, it was a familiar smell but I could not relate it to anything, but in my son’s bedroom sometimes smell like that”.\n",
    "Following the Mass, these altar boys were arrested by the police after confirming that the strange smell was correspond to marijuana, “it was a joke, the idea came during the Christmas Eve mass, we bought no more than half a kilo of Mary Jane and we drop it inside the censer-burner, we are sure that people has left of the Cathedral happier more than ever”. Finally, they were freed without charge but they will not be able to discharge their functions as altar boys any more.\"\"\"\n",
    "diff2 = \"\"\"Based on data and analyses prevented by its high-level technical experts committee on coronavirus disease (Covid-19), the health ministry is likely to extend testing protocols to include rapid antibody testing for everyone at risk, including those outside hotspot areasOnce approved, these guidelines will replace the Indian Council of Medical Research’s interim advisory issued on April 2 that limited rapid antibody testing to hotspot areas.Unlike the RT-PCR test that detects the virus’ genetic material (RNA) in throat swabs to diagnose current infection, rapid antibody test indicate if a person has been infected and has immunity.The simple blood test, which takes 15-20 minutes to give results, will help identify people who were infected but never diagnosed, which will help map undetected infection and give the correct extend of the epidemic.\"\"\"\n",
    "diff = \"\"\"An article about two altar boys being arrested for putting marijuana in a censer (incense burner) at the Cathedral of Santiago de Compostela in Spain was recirculated on social media in December 2018. This is not a genuine news report.The story appears to have first gone viral after it was published on the Spanish-language satirical web site haynoticia.es in January 2018. According to a report in the newspaper El Pais, more than 2 million people visited Haynoticia.es to read the story, it racked up more than 250,000 interactions on social media, and at least one genuine newspaper republished the article:\"\"\""
   ]
  },
  {
   "cell_type": "code",
   "execution_count": 16,
   "metadata": {},
   "outputs": [
    {
     "name": "stdout",
     "output_type": "stream",
     "text": [
      "<class 'str'>\n",
      "{'Two': 1, 'Altar': 1, 'Boys': 1, 'Arrested': 1, 'for': 1, 'Putting': 1, 'Weed': 1, 'in': 1, 'the': 1, 'Censer': 1, 'Burner': 1}\n",
      "{'What': 1, 'started': 1, 'as': 3, 'a': 4, 'joke': 1, 'ended': 1, 'with': 1, 'the': 14, 'future': 1, 'of': 7, 'two': 1, 'altar': 3, 'boys': 3, 'from': 1, 'Spain.': 1, 'They': 1, 'were': 3, 'detained': 1, 'overnight,': 1, 'after': 2, 'having': 1, 'surprised': 1, 'them': 1, 'putting': 1, 'weed': 1, 'in': 4, 'censer-burner': 2, 'Cathedral': 3, 'Santiago': 2, 'de': 2, 'Compostela.\\nThe': 1, 'is': 1, 'used': 1, 'Compostela': 1, 'to': 4, 'celebrate': 1, 'Epiphany': 1, 'Lord.': 1, 'Several': 1, 'assistants': 1, 'stated': 1, 'that': 3, 'this': 1, 'occasion': 1, 'holy': 1, 'precinct': 1, 'was': 4, 'suddenly': 1, 'covered': 1, 'an': 1, 'odd': 1, 'smell': 5, '“it': 2, 'did': 1, 'not': 3, 'always,': 1, 'it': 3, 'familiar': 1, 'but': 3, 'I': 1, 'could': 1, 'relate': 1, 'anything,': 1, 'my': 1, 'son’s': 1, 'bedroom': 1, 'sometimes': 1, 'like': 1, 'that”.\\nFollowing': 1, 'Mass,': 1, 'these': 1, 'arrested': 1, 'by': 1, 'police': 1, 'confirming': 1, 'strange': 1, 'correspond': 1, 'marijuana,': 1, 'joke,': 1, 'idea': 1, 'came': 1, 'during': 1, 'Christmas': 1, 'Eve': 1, 'mass,': 1, 'we': 3, 'bought': 1, 'no': 1, 'more': 2, 'than': 2, 'half': 1, 'kilo': 1, 'Mary': 1, 'Jane': 1, 'and': 1, 'drop': 1, 'inside': 1, 'censer-burner,': 1, 'are': 1, 'sure': 1, 'people': 1, 'has': 1, 'left': 1, 'happier': 1, 'ever”.': 1, 'Finally,': 1, 'they': 2, 'freed': 1, 'without': 1, 'charge': 1, 'will': 1, 'be': 1, 'able': 1, 'discharge': 1, 'their': 1, 'functions': 1, 'any': 1, 'more.': 1}\n"
     ]
    }
   ],
   "source": [
    "bowHead = headline.split(\" \")\n",
    "bowBody = body.split(\" \")\n",
    "#print(bowHead)\n",
    "#print(bowBody)\n",
    "wordDictHead = dict.fromkeys(bowHead, 0)\n",
    "wordDictBody = dict.fromkeys(bowBody, 0)\n",
    "for word in bowHead:\n",
    "    wordDictHead[word] +=1\n",
    "for word in bowBody:\n",
    "    wordDictBody[word] +=1\n",
    "print(wordDictHead)\n",
    "print(wordDictBody)\n"
   ]
  },
  {
   "cell_type": "code",
   "execution_count": 5,
   "metadata": {},
   "outputs": [],
   "source": [
    "def computeTF(wordDict, bow):\n",
    "    tfDict = {}\n",
    "    bowCount = len(bow)\n",
    "    for word, count in wordDict.items():\n",
    "        tfDict[word] = count /float(bowCount)\n",
    "    return tfDict"
   ]
  },
  {
   "cell_type": "code",
   "execution_count": 6,
   "metadata": {},
   "outputs": [],
   "source": [
    "def computeIDF(docList):\n",
    "    idfDict = {}\n",
    "    n = len(docList)\n",
    "    idfDict = dict.fromkeys(docList[0].keys(), 0)\n",
    "    for doc in docList:\n",
    "        for word, val in doc.items():\n",
    "            if val > 0:\n",
    "                idfDict[word] +=1\n",
    "    for word, val in idfDict.items():\n",
    "        idfDict[word] = math.log10(n/float(val))\n",
    "    return idfDict"
   ]
  },
  {
   "cell_type": "code",
   "execution_count": 7,
   "metadata": {},
   "outputs": [],
   "source": [
    "def build_vector(iterable1, iterable2):\n",
    "    counter1 = Counter(iterable1)\n",
    "    counter2 = Counter(iterable2)\n",
    "    all_items = set(counter1.keys()).union(set(counter2.keys()))\n",
    "    vector1 = [counter1[k] for k in all_items]\n",
    "    vector2 = [counter2[k] for k in all_items]\n",
    "    return vector1, vector2\n",
    "\n",
    "def cosim(v1, v2):\n",
    "    dot_product = sum(n1 * n2 for n1, n2 in zip(v1, v2) )\n",
    "    magnitude1 = math.sqrt(sum(n ** 2 for n in v1))\n",
    "    magnitude2 = math.sqrt(sum(n ** 2 for n in v2))\n",
    "    return dot_product / (magnitude1 * magnitude2)"
   ]
  },
  {
   "cell_type": "code",
   "execution_count": 17,
   "metadata": {},
   "outputs": [
    {
     "name": "stdout",
     "output_type": "stream",
     "text": [
      "<class 'tuple'>\n",
      "(3, 101)\n",
      "[[1.         0.32097079 0.15244237]]\n"
     ]
    }
   ],
   "source": [
    "# This is the tfidf cosine similarity block\n",
    "tfidf_vectorizer = TfidfVectorizer(stop_words='english')\n",
    "tfidf_feature_head = tfidf_vectorizer.fit_transform(bowHead)\n",
    "tfidf_feature_body = tfidf_vectorizer.fit_transform(bowBody)\n",
    "document = (headline, body, diff)\n",
    "tfidf_matrix = tfidf_vectorizer.fit_transform(document)\n",
    "similar = cosine_similarity(tfidf_matrix[0:1], tfidf_matrix)\n",
    "print(tfidf_matrix.shape)\n",
    "print(similar)"
   ]
  },
  {
   "cell_type": "code",
   "execution_count": 10,
   "metadata": {},
   "outputs": [
    {
     "name": "stdout",
     "output_type": "stream",
     "text": [
      "<class 'numpy.ndarray'>\n"
     ]
    }
   ],
   "source": [
    "print(type(similar))"
   ]
  },
  {
   "cell_type": "code",
   "execution_count": 12,
   "metadata": {},
   "outputs": [
    {
     "name": "stdout",
     "output_type": "stream",
     "text": [
      "1.0\n",
      "0.3209707913039122\n",
      "0.1524423658968604\n"
     ]
    }
   ],
   "source": [
    "for x in np.nditer(similar):\n",
    "    print(x)"
   ]
  },
  {
   "cell_type": "code",
   "execution_count": null,
   "metadata": {},
   "outputs": [],
   "source": []
  }
 ],
 "metadata": {
  "kernelspec": {
   "display_name": "Python 3",
   "language": "python",
   "name": "python3"
  },
  "language_info": {
   "codemirror_mode": {
    "name": "ipython",
    "version": 3
   },
   "file_extension": ".py",
   "mimetype": "text/x-python",
   "name": "python",
   "nbconvert_exporter": "python",
   "pygments_lexer": "ipython3",
   "version": "3.7.4"
  }
 },
 "nbformat": 4,
 "nbformat_minor": 2
}
