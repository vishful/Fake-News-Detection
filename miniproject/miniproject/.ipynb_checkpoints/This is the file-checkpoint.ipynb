{
 "cells": [
  {
   "cell_type": "code",
   "execution_count": 220,
   "metadata": {},
   "outputs": [],
   "source": [
    "from sklearn.feature_extraction.text import CountVectorizer\n",
    "from sklearn.feature_extraction.text import TfidfVectorizer\n",
    "from sklearn.metrics.pairwise import cosine_similarity\n",
    "import pandas as pd\n",
    "import numpy as np\n",
    "import math\n",
    "import csv"
   ]
  },
  {
   "cell_type": "code",
   "execution_count": 221,
   "metadata": {},
   "outputs": [],
   "source": [
    "def listToString(text):\n",
    "    str1 = \"\"\n",
    "    for t in text:\n",
    "        str1+=t\n",
    "    return str1"
   ]
  },
  {
   "cell_type": "code",
   "execution_count": 222,
   "metadata": {},
   "outputs": [],
   "source": [
    "with open(\"title.csv\",\"w\") as text:\n",
    "    title = csv.writer(text)\n",
    "    title.writerow([\"Two Altar Boys Arrested for Putting Weed in the Censer Burner\"])\n",
    "with open(\"body.csv\",\"w\") as text:\n",
    "    body = csv.writer(text)\n",
    "    body.writerow([\"\"\"What started as a joke ended with the future of two altar boys from Spain. They were detained overnight, after having surprised them putting weed in the censer-burner of the Cathedral of Santiago de Compostela.\n",
    "The censer-burner is used the Cathedral of Santiago de Compostela to celebrate the Epiphany of the Lord. Several assistants stated that in this occasion the holy precinct was suddenly covered in an odd smell “it did not smell as always, it was a familiar smell but I could not relate it to anything, but in my son’s bedroom sometimes smell like that”.\n",
    "Following the Mass, these altar boys were arrested by the police after confirming that the strange smell was correspond to marijuana, “it was a joke, the idea came during the Christmas Eve mass, we bought no more than half a kilo of Mary Jane and we drop it inside the censer-burner, we are sure that people has left of the Cathedral happier more than ever”. Finally, they were freed without charge but they will not be able to discharge their functions as altar boys any more.\"\"\"])\n",
    "    "
   ]
  },
  {
   "cell_type": "code",
   "execution_count": 223,
   "metadata": {},
   "outputs": [
    {
     "name": "stdout",
     "output_type": "stream",
     "text": [
      "Two Altar Boys Arrested for Putting Weed in the Censer Burner\n",
      "What started as a joke ended with the future of two altar boys from Spain. They were detained overnight, after having surprised them putting weed in the censer-burner of the Cathedral of Santiago de Compostela.\n",
      "The censer-burner is used the Cathedral of Santiago de Compostela to celebrate the Epiphany of the Lord. Several assistants stated that in this occasion the holy precinct was suddenly covered in an odd smell “it did not smell as always, it was a familiar smell but I could not relate it to anything, but in my son’s bedroom sometimes smell like that”.\n",
      "Following the Mass, these altar boys were arrested by the police after confirming that the strange smell was correspond to marijuana, “it was a joke, the idea came during the Christmas Eve mass, we bought no more than half a kilo of Mary Jane and we drop it inside the censer-burner, we are sure that people has left of the Cathedral happier more than ever”. Finally, they were freed without charge but they will not be able to discharge their functions as altar boys any more.\n"
     ]
    }
   ],
   "source": [
    "with open(\"title.csv\",\"r\") as text:\n",
    "    titlerow = csv.reader(text)\n",
    "    for row in titlerow:\n",
    "        titleContent = row\n",
    "        title = listToString(titleContent)\n",
    "        print(title)\n",
    "with open(\"body.csv\",\"r\") as text:\n",
    "    bodyrow = csv.reader(text)\n",
    "    for row in bodyrow:\n",
    "        bodyContent = row\n",
    "        body = listToString(bodyContent)\n",
    "        print(body)"
   ]
  },
  {
   "cell_type": "code",
   "execution_count": 224,
   "metadata": {},
   "outputs": [
    {
     "name": "stdout",
     "output_type": "stream",
     "text": [
      "<class 'str'>\n",
      "<class 'str'>\n"
     ]
    }
   ],
   "source": [
    "print(type(title))\n",
    "print(type(body))"
   ]
  },
  {
   "cell_type": "code",
   "execution_count": 225,
   "metadata": {},
   "outputs": [
    {
     "name": "stdout",
     "output_type": "stream",
     "text": [
      "['Two', 'Altar', 'Boys', 'Arrested', 'for', 'Putting', 'Weed', 'in', 'the', 'Censer', 'Burner']\n",
      "['What', 'started', 'as', 'a', 'joke', 'ended', 'with', 'the', 'future', 'of', 'two', 'altar', 'boys', 'from', 'Spain.', 'They', 'were', 'detained', 'overnight,', 'after', 'having', 'surprised', 'them', 'putting', 'weed', 'in', 'the', 'censer-burner', 'of', 'the', 'Cathedral', 'of', 'Santiago', 'de', 'Compostela.\\nThe', 'censer-burner', 'is', 'used', 'the', 'Cathedral', 'of', 'Santiago', 'de', 'Compostela', 'to', 'celebrate', 'the', 'Epiphany', 'of', 'the', 'Lord.', 'Several', 'assistants', 'stated', 'that', 'in', 'this', 'occasion', 'the', 'holy', 'precinct', 'was', 'suddenly', 'covered', 'in', 'an', 'odd', 'smell', '“it', 'did', 'not', 'smell', 'as', 'always,', 'it', 'was', 'a', 'familiar', 'smell', 'but', 'I', 'could', 'not', 'relate', 'it', 'to', 'anything,', 'but', 'in', 'my', 'son’s', 'bedroom', 'sometimes', 'smell', 'like', 'that”.\\nFollowing', 'the', 'Mass,', 'these', 'altar', 'boys', 'were', 'arrested', 'by', 'the', 'police', 'after', 'confirming', 'that', 'the', 'strange', 'smell', 'was', 'correspond', 'to', 'marijuana,', '“it', 'was', 'a', 'joke,', 'the', 'idea', 'came', 'during', 'the', 'Christmas', 'Eve', 'mass,', 'we', 'bought', 'no', 'more', 'than', 'half', 'a', 'kilo', 'of', 'Mary', 'Jane', 'and', 'we', 'drop', 'it', 'inside', 'the', 'censer-burner,', 'we', 'are', 'sure', 'that', 'people', 'has', 'left', 'of', 'the', 'Cathedral', 'happier', 'more', 'than', 'ever”.', 'Finally,', 'they', 'were', 'freed', 'without', 'charge', 'but', 'they', 'will', 'not', 'be', 'able', 'to', 'discharge', 'their', 'functions', 'as', 'altar', 'boys', 'any', 'more.']\n"
     ]
    }
   ],
   "source": [
    "bowHead = title.split(\" \")\n",
    "bowBody = body.split(\" \")\n",
    "print(bowHead)\n",
    "print(bowBody)"
   ]
  },
  {
   "cell_type": "code",
   "execution_count": 226,
   "metadata": {},
   "outputs": [
    {
     "name": "stdout",
     "output_type": "stream",
     "text": [
      "{'Two': 1, 'Altar': 1, 'Boys': 1, 'Arrested': 1, 'for': 1, 'Putting': 1, 'Weed': 1, 'in': 1, 'the': 1, 'Censer': 1, 'Burner': 1}\n",
      "{'What': 1, 'started': 1, 'as': 3, 'a': 4, 'joke': 1, 'ended': 1, 'with': 1, 'the': 14, 'future': 1, 'of': 7, 'two': 1, 'altar': 3, 'boys': 3, 'from': 1, 'Spain.': 1, 'They': 1, 'were': 3, 'detained': 1, 'overnight,': 1, 'after': 2, 'having': 1, 'surprised': 1, 'them': 1, 'putting': 1, 'weed': 1, 'in': 4, 'censer-burner': 2, 'Cathedral': 3, 'Santiago': 2, 'de': 2, 'Compostela.\\nThe': 1, 'is': 1, 'used': 1, 'Compostela': 1, 'to': 4, 'celebrate': 1, 'Epiphany': 1, 'Lord.': 1, 'Several': 1, 'assistants': 1, 'stated': 1, 'that': 3, 'this': 1, 'occasion': 1, 'holy': 1, 'precinct': 1, 'was': 4, 'suddenly': 1, 'covered': 1, 'an': 1, 'odd': 1, 'smell': 5, '“it': 2, 'did': 1, 'not': 3, 'always,': 1, 'it': 3, 'familiar': 1, 'but': 3, 'I': 1, 'could': 1, 'relate': 1, 'anything,': 1, 'my': 1, 'son’s': 1, 'bedroom': 1, 'sometimes': 1, 'like': 1, 'that”.\\nFollowing': 1, 'Mass,': 1, 'these': 1, 'arrested': 1, 'by': 1, 'police': 1, 'confirming': 1, 'strange': 1, 'correspond': 1, 'marijuana,': 1, 'joke,': 1, 'idea': 1, 'came': 1, 'during': 1, 'Christmas': 1, 'Eve': 1, 'mass,': 1, 'we': 3, 'bought': 1, 'no': 1, 'more': 2, 'than': 2, 'half': 1, 'kilo': 1, 'Mary': 1, 'Jane': 1, 'and': 1, 'drop': 1, 'inside': 1, 'censer-burner,': 1, 'are': 1, 'sure': 1, 'people': 1, 'has': 1, 'left': 1, 'happier': 1, 'ever”.': 1, 'Finally,': 1, 'they': 2, 'freed': 1, 'without': 1, 'charge': 1, 'will': 1, 'be': 1, 'able': 1, 'discharge': 1, 'their': 1, 'functions': 1, 'any': 1, 'more.': 1}\n"
     ]
    }
   ],
   "source": [
    "wordDictHead = dict.fromkeys(bowHead, 0)\n",
    "wordDictBody = dict.fromkeys(bowBody, 0)\n",
    "for word in bowHead:\n",
    "    wordDictHead[word] += 1\n",
    "for word in bowBody:\n",
    "    wordDictBody[word] += 1\n",
    "print(wordDictHead)\n",
    "print(wordDictBody)"
   ]
  },
  {
   "cell_type": "code",
   "execution_count": 227,
   "metadata": {},
   "outputs": [],
   "source": [
    "def computeTF(wordDict, bow):\n",
    "    tfDict = {}\n",
    "    bowCount = len(bow)\n",
    "    for word, count in wordDict.items():\n",
    "        tfDict[word] = count /float(bowCount)\n",
    "    return tfDict"
   ]
  },
  {
   "cell_type": "code",
   "execution_count": 228,
   "metadata": {},
   "outputs": [],
   "source": [
    "def computeIDF(docList):\n",
    "    idfDict = {}\n",
    "    n = len(docList)\n",
    "    idfDict = dict.fromkeys(docList[0].keys(), 0)\n",
    "    for doc in docList:\n",
    "        for word, val in doc.items():\n",
    "            if val > 0:\n",
    "                idfDict[word] +=1\n",
    "    for word, val in idfDict.items():\n",
    "        idfDict[word] = math.log10(n/float(val))\n",
    "    return idfDict"
   ]
  },
  {
   "cell_type": "code",
   "execution_count": 229,
   "metadata": {},
   "outputs": [
    {
     "name": "stdout",
     "output_type": "stream",
     "text": [
      "(2, 66)\n",
      "[[1.         0.36410186]]\n"
     ]
    }
   ],
   "source": [
    "# This is the tfidf cosine similarity block\n",
    "tfidf_vectorizer = TfidfVectorizer(stop_words='english')\n",
    "tfidf_feature_head = tfidf_vectorizer.fit_transform(bowHead)\n",
    "tfidf_feature_body = tfidf_vectorizer.fit_transform(bowBody)\n",
    "document = (title, body)\n",
    "tfidf_matrix = tfidf_vectorizer.fit_transform(document)\n",
    "similar = cosine_similarity(tfidf_matrix[0:1], tfidf_matrix)\n",
    "print(tfidf_matrix.shape)\n",
    "print(similar)"
   ]
  },
  {
   "cell_type": "code",
   "execution_count": null,
   "metadata": {},
   "outputs": [],
   "source": []
  },
  {
   "cell_type": "code",
   "execution_count": null,
   "metadata": {},
   "outputs": [],
   "source": []
  }
 ],
 "metadata": {
  "kernelspec": {
   "display_name": "Python 3",
   "language": "python",
   "name": "python3"
  },
  "language_info": {
   "codemirror_mode": {
    "name": "ipython",
    "version": 3
   },
   "file_extension": ".py",
   "mimetype": "text/x-python",
   "name": "python",
   "nbconvert_exporter": "python",
   "pygments_lexer": "ipython3",
   "version": "3.7.4"
  }
 },
 "nbformat": 4,
 "nbformat_minor": 2
}
