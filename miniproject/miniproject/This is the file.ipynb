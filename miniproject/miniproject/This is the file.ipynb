{
 "cells": [
  {
   "cell_type": "code",
   "execution_count": 344,
   "metadata": {},
   "outputs": [],
   "source": [
    "from sklearn.feature_extraction.text import CountVectorizer\n",
    "from sklearn.feature_extraction.text import TfidfVectorizer\n",
    "from sklearn.metrics.pairwise import cosine_similarity\n",
    "import pandas as pd\n",
    "import numpy as np\n",
    "import math\n",
    "import csv"
   ]
  },
  {
   "cell_type": "code",
   "execution_count": 345,
   "metadata": {},
   "outputs": [],
   "source": [
    "def listToString(text):\n",
    "    str1 = \"\"\n",
    "    for t in text:\n",
    "        str1+=t\n",
    "    return str1"
   ]
  },
  {
   "cell_type": "code",
   "execution_count": 346,
   "metadata": {},
   "outputs": [
    {
     "name": "stdout",
     "output_type": "stream",
     "text": [
      "Bengaluru Based Specialist cured Prince Charles of COVID-19\n",
      "\n",
      "Naik claimed this in a press conference held at his private residence near Panaji and also reiterated to Deccan Herald subsequently over the phone, that one Dr. Mathai who runs SOUKYA, a holistic health care center, in Bengaluru had informed him about curing Prince Charles of COVID-19 using alternative medicine techniques. However, a spokesperson of the Clarence House, issued a denial to Deccan Herald stating, This information is incorrect. The Prince of Wales followed the medical advice of the NHS in the UK  and nothing more.\n"
     ]
    }
   ],
   "source": [
    "with open(\"title.csv\",\"r\") as text:\n",
    "    titlerow = csv.reader(text)\n",
    "    for row in titlerow:\n",
    "        titleContent = row\n",
    "        title = listToString(titleContent)\n",
    "        print(title +\"\\n\")\n",
    "with open(\"body.csv\",\"r\") as text:\n",
    "    bodyrow = csv.reader(text)\n",
    "    for row in bodyrow:\n",
    "        bodyContent = row\n",
    "        body = listToString(bodyContent)\n",
    "        print(body)"
   ]
  },
  {
   "cell_type": "code",
   "execution_count": 347,
   "metadata": {},
   "outputs": [
    {
     "name": "stdout",
     "output_type": "stream",
     "text": [
      "<class 'str'>\n",
      "<class 'str'>\n"
     ]
    }
   ],
   "source": [
    "print(type(title))\n",
    "print(type(body))"
   ]
  },
  {
   "cell_type": "code",
   "execution_count": 348,
   "metadata": {},
   "outputs": [
    {
     "name": "stdout",
     "output_type": "stream",
     "text": [
      "['Bengaluru', 'Based', 'Specialist', 'cured', 'Prince', 'Charles', 'of', 'COVID-19']\n",
      "['Naik', 'claimed', 'this', 'in', 'a', 'press', 'conference', 'held', 'at', 'his', 'private', 'residence', 'near', 'Panaji', 'and', 'also', 'reiterated', 'to', 'Deccan', 'Herald', 'subsequently', 'over', 'the', 'phone,', 'that', 'one', 'Dr.', 'Mathai', 'who', 'runs', 'SOUKYA,', 'a', 'holistic', 'health', 'care', 'center,', 'in', 'Bengaluru', 'had', 'informed', 'him', 'about', 'curing', 'Prince', 'Charles', 'of', 'COVID-19', 'using', 'alternative', 'medicine', 'techniques.', 'However,', 'a', 'spokesperson', 'of', 'the', 'Clarence', 'House,', 'issued', 'a', 'denial', 'to', 'Deccan', 'Herald', 'stating,', 'This', 'information', 'is', 'incorrect.', 'The', 'Prince', 'of', 'Wales', 'followed', 'the', 'medical', 'advice', 'of', 'the', 'NHS', 'in', 'the', 'UK', '', 'and', 'nothing', 'more.']\n"
     ]
    }
   ],
   "source": [
    "bowHead = title.split(\" \")\n",
    "bowBody = body.split(\" \")\n",
    "print(bowHead)\n",
    "print(bowBody)\n",
    "wordSet = set(bowHead).union(set(bowBody))"
   ]
  },
  {
   "cell_type": "code",
   "execution_count": 358,
   "metadata": {},
   "outputs": [
    {
     "name": "stdout",
     "output_type": "stream",
     "text": [
      "{'': 0, 'residence': 0, 'this': 0, 'alternative': 0, 'him': 0, 'a': 0, 'about': 0, 'House,': 0, 'Prince': 1, 'his': 0, 'advice': 0, 'more.': 0, 'is': 0, 'claimed': 0, 'Bengaluru': 1, 'nothing': 0, 'Wales': 0, 'UK': 0, 'incorrect.': 0, 'reiterated': 0, 'curing': 0, 'The': 0, 'the': 0, 'Specialist': 1, 'of': 1, 'private': 0, 'runs': 0, 'SOUKYA,': 0, 'medicine': 0, 'information': 0, 'one': 0, 'NHS': 0, 'cured': 1, 'Panaji': 0, 'Clarence': 0, 'techniques.': 0, 'using': 0, 'over': 0, 'phone,': 0, 'stating,': 0, 'who': 0, 'Deccan': 0, 'spokesperson': 0, 'Naik': 0, 'had': 0, 'also': 0, 'Based': 1, 'This': 0, 'at': 0, 'followed': 0, 'near': 0, 'to': 0, 'COVID-19': 1, 'denial': 0, 'medical': 0, 'that': 0, 'Mathai': 0, 'informed': 0, 'held': 0, 'subsequently': 0, 'issued': 0, 'Dr.': 0, 'health': 0, 'conference': 0, 'holistic': 0, 'However,': 0, 'Charles': 1, 'Herald': 0, 'in': 0, 'and': 0, 'center,': 0, 'press': 0, 'care': 0}\n",
      "{'': 1, 'residence': 1, 'this': 1, 'alternative': 1, 'him': 1, 'a': 4, 'about': 1, 'House,': 1, 'Prince': 2, 'his': 1, 'advice': 1, 'more.': 1, 'is': 1, 'claimed': 1, 'Bengaluru': 1, 'nothing': 1, 'Wales': 1, 'UK': 1, 'incorrect.': 1, 'reiterated': 1, 'curing': 1, 'The': 1, 'the': 5, 'Specialist': 0, 'of': 4, 'private': 1, 'runs': 1, 'SOUKYA,': 1, 'medicine': 1, 'information': 1, 'one': 1, 'NHS': 1, 'cured': 0, 'Panaji': 1, 'Clarence': 1, 'techniques.': 1, 'using': 1, 'over': 1, 'phone,': 1, 'stating,': 1, 'who': 1, 'Deccan': 2, 'spokesperson': 1, 'Naik': 1, 'had': 1, 'also': 1, 'Based': 0, 'This': 1, 'at': 1, 'followed': 1, 'near': 1, 'to': 2, 'COVID-19': 1, 'denial': 1, 'medical': 1, 'that': 1, 'Mathai': 1, 'informed': 1, 'held': 1, 'subsequently': 1, 'issued': 1, 'Dr.': 1, 'health': 1, 'conference': 1, 'holistic': 1, 'However,': 1, 'Charles': 1, 'Herald': 2, 'in': 3, 'and': 2, 'center,': 1, 'press': 1, 'care': 1}\n"
     ]
    },
    {
     "data": {
      "text/plain": [
       "{'': 0.011494252873563218,\n",
       " 'residence': 0.011494252873563218,\n",
       " 'this': 0.011494252873563218,\n",
       " 'alternative': 0.011494252873563218,\n",
       " 'him': 0.011494252873563218,\n",
       " 'a': 0.04597701149425287,\n",
       " 'about': 0.011494252873563218,\n",
       " 'House,': 0.011494252873563218,\n",
       " 'Prince': 0.022988505747126436,\n",
       " 'his': 0.011494252873563218,\n",
       " 'advice': 0.011494252873563218,\n",
       " 'more.': 0.011494252873563218,\n",
       " 'is': 0.011494252873563218,\n",
       " 'claimed': 0.011494252873563218,\n",
       " 'Bengaluru': 0.011494252873563218,\n",
       " 'nothing': 0.011494252873563218,\n",
       " 'Wales': 0.011494252873563218,\n",
       " 'UK': 0.011494252873563218,\n",
       " 'incorrect.': 0.011494252873563218,\n",
       " 'reiterated': 0.011494252873563218,\n",
       " 'curing': 0.011494252873563218,\n",
       " 'The': 0.011494252873563218,\n",
       " 'the': 0.05747126436781609,\n",
       " 'Specialist': 0.0,\n",
       " 'of': 0.04597701149425287,\n",
       " 'private': 0.011494252873563218,\n",
       " 'runs': 0.011494252873563218,\n",
       " 'SOUKYA,': 0.011494252873563218,\n",
       " 'medicine': 0.011494252873563218,\n",
       " 'information': 0.011494252873563218,\n",
       " 'one': 0.011494252873563218,\n",
       " 'NHS': 0.011494252873563218,\n",
       " 'cured': 0.0,\n",
       " 'Panaji': 0.011494252873563218,\n",
       " 'Clarence': 0.011494252873563218,\n",
       " 'techniques.': 0.011494252873563218,\n",
       " 'using': 0.011494252873563218,\n",
       " 'over': 0.011494252873563218,\n",
       " 'phone,': 0.011494252873563218,\n",
       " 'stating,': 0.011494252873563218,\n",
       " 'who': 0.011494252873563218,\n",
       " 'Deccan': 0.022988505747126436,\n",
       " 'spokesperson': 0.011494252873563218,\n",
       " 'Naik': 0.011494252873563218,\n",
       " 'had': 0.011494252873563218,\n",
       " 'also': 0.011494252873563218,\n",
       " 'Based': 0.0,\n",
       " 'This': 0.011494252873563218,\n",
       " 'at': 0.011494252873563218,\n",
       " 'followed': 0.011494252873563218,\n",
       " 'near': 0.011494252873563218,\n",
       " 'to': 0.022988505747126436,\n",
       " 'COVID-19': 0.011494252873563218,\n",
       " 'denial': 0.011494252873563218,\n",
       " 'medical': 0.011494252873563218,\n",
       " 'that': 0.011494252873563218,\n",
       " 'Mathai': 0.011494252873563218,\n",
       " 'informed': 0.011494252873563218,\n",
       " 'held': 0.011494252873563218,\n",
       " 'subsequently': 0.011494252873563218,\n",
       " 'issued': 0.011494252873563218,\n",
       " 'Dr.': 0.011494252873563218,\n",
       " 'health': 0.011494252873563218,\n",
       " 'conference': 0.011494252873563218,\n",
       " 'holistic': 0.011494252873563218,\n",
       " 'However,': 0.011494252873563218,\n",
       " 'Charles': 0.011494252873563218,\n",
       " 'Herald': 0.022988505747126436,\n",
       " 'in': 0.034482758620689655,\n",
       " 'and': 0.022988505747126436,\n",
       " 'center,': 0.011494252873563218,\n",
       " 'press': 0.011494252873563218,\n",
       " 'care': 0.011494252873563218}"
      ]
     },
     "execution_count": 358,
     "metadata": {},
     "output_type": "execute_result"
    }
   ],
   "source": [
    "wordDictHead = dict.fromkeys(wordSet, 0)\n",
    "wordDictBody = dict.fromkeys(wordSet, 0)\n",
    "for word in bowHead:\n",
    "    wordDictHead[word] += 1\n",
    "for word in bowBody:\n",
    "    wordDictBody[word] += 1\n",
    "print(wordDictHead)\n",
    "print(wordDictBody)\n",
    "tf = computeTF(wordDictHead,bowHead)\n",
    "computeTF(wordDictBody,bowBody)"
   ]
  },
  {
   "cell_type": "code",
   "execution_count": 359,
   "metadata": {},
   "outputs": [],
   "source": [
    "def computeTF(wordDict, bow):\n",
    "    tfDict = {}\n",
    "    bowCount = len(bow)\n",
    "    for word, count in wordDict.items():\n",
    "        tfDict[word] = count /float(bowCount)\n",
    "    return tfDict"
   ]
  },
  {
   "cell_type": "code",
   "execution_count": 360,
   "metadata": {},
   "outputs": [],
   "source": [
    "def computeIDF(docList):\n",
    "    idfDict = {}\n",
    "    n = len(docList)\n",
    "    idfDict = dict.fromkeys(docList[0].keys(), 0)\n",
    "    for doc in docList:\n",
    "        for word, val in doc.items():\n",
    "            if val > 0:\n",
    "                idfDict[word] +=1\n",
    "                \n",
    "    for word, val in idfDict.items():\n",
    "        idfDict[word] = math.log10(n/float(val))\n",
    "        \n",
    "    return idfDict"
   ]
  },
  {
   "cell_type": "code",
   "execution_count": 361,
   "metadata": {},
   "outputs": [],
   "source": [
    "idf = computeIDF([wordDictHead, wordDictBody])"
   ]
  },
  {
   "cell_type": "code",
   "execution_count": 362,
   "metadata": {},
   "outputs": [],
   "source": [
    "text = pd.read_csv(\"claims.csv\")\n",
    "#text['Body'].values[0]\n",
    "tups = ()\n",
    "values = list(tups)\n",
    "values.append(body)\n",
    "for i in range(text.shape[0]):\n",
    "    val = text['Body'].values[i]\n",
    "    values.append(val)\n",
    "tups = tuple(values)\n",
    "#print(tups)"
   ]
  },
  {
   "cell_type": "code",
   "execution_count": 363,
   "metadata": {},
   "outputs": [
    {
     "name": "stdout",
     "output_type": "stream",
     "text": [
      "(9, 172)\n",
      "[[1.         1.         0.17672688 0.15326559 0.12019919 0.20466887\n",
      "  0.2937605  0.22376427 0.16264362]]\n"
     ]
    }
   ],
   "source": [
    "# This is the tfidf cosine similarity block\n",
    "tfidf_vectorizer = TfidfVectorizer(stop_words='english')\n",
    "tfidf_feature_head = tfidf_vectorizer.fit_transform(bowHead)\n",
    "tfidf_feature_body = tfidf_vectorizer.fit_transform(bowBody)\n",
    "document = (title, body)\n",
    "tfidf_matrix = tfidf_vectorizer.fit_transform(tups)\n",
    "similar = cosine_similarity(tfidf_matrix[0:1], tfidf_matrix)\n",
    "print(tfidf_matrix.shape)\n",
    "print(similar)"
   ]
  },
  {
   "cell_type": "code",
   "execution_count": 364,
   "metadata": {},
   "outputs": [
    {
     "name": "stdout",
     "output_type": "stream",
     "text": [
      "1.0\n",
      "Not a fake news\n",
      "1.0\n",
      "Not a fake news\n",
      "0.1767268839220041\n",
      "Neutral\n",
      "0.15326559483079588\n",
      "Neutral\n",
      "0.12019918984351821\n",
      "Neutral\n",
      "0.20466887243599888\n",
      "Neutral\n",
      "0.2937604965747844\n",
      "Neutral\n",
      "0.22376426513406228\n",
      "Neutral\n",
      "0.16264361997171256\n",
      "Neutral\n"
     ]
    }
   ],
   "source": [
    "for x in np.nditer(similar):\n",
    "    print(x)\n",
    "    if x > 0.60:\n",
    "        print(\"Not a fake news\")\n",
    "    elif x < 0.60 and x > 0.45:\n",
    "        print(\"Fake news\")\n",
    "    elif x < 0.45:\n",
    "        print(\"Neutral\")"
   ]
  },
  {
   "cell_type": "code",
   "execution_count": null,
   "metadata": {},
   "outputs": [],
   "source": []
  },
  {
   "cell_type": "code",
   "execution_count": null,
   "metadata": {},
   "outputs": [],
   "source": []
  }
 ],
 "metadata": {
  "kernelspec": {
   "display_name": "Python 3",
   "language": "python",
   "name": "python3"
  },
  "language_info": {
   "codemirror_mode": {
    "name": "ipython",
    "version": 3
   },
   "file_extension": ".py",
   "mimetype": "text/x-python",
   "name": "python",
   "nbconvert_exporter": "python",
   "pygments_lexer": "ipython3",
   "version": "3.7.6"
  }
 },
 "nbformat": 4,
 "nbformat_minor": 2
}
