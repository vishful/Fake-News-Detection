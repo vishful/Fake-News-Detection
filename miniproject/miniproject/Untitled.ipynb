{
 "cells": [
  {
   "cell_type": "code",
   "execution_count": 204,
   "metadata": {},
   "outputs": [],
   "source": [
    "from sklearn.feature_extraction.text import CountVectorizer\n",
    "from sklearn.feature_extraction.text import TfidfVectorizer\n",
    "from sklearn.metrics.pairwise import cosine_similarity\n",
    "import pandas as pd\n",
    "import numpy as np\n",
    "import math\n",
    "import csv"
   ]
  },
  {
   "cell_type": "code",
   "execution_count": 205,
   "metadata": {
    "scrolled": true
   },
   "outputs": [
    {
     "data": {
      "text/html": [
       "<div>\n",
       "<style scoped>\n",
       "    .dataframe tbody tr th:only-of-type {\n",
       "        vertical-align: middle;\n",
       "    }\n",
       "\n",
       "    .dataframe tbody tr th {\n",
       "        vertical-align: top;\n",
       "    }\n",
       "\n",
       "    .dataframe thead th {\n",
       "        text-align: right;\n",
       "    }\n",
       "</style>\n",
       "<table border=\"1\" class=\"dataframe\">\n",
       "  <thead>\n",
       "    <tr style=\"text-align: right;\">\n",
       "      <th></th>\n",
       "      <th>Source</th>\n",
       "      <th>Body</th>\n",
       "    </tr>\n",
       "  </thead>\n",
       "  <tbody>\n",
       "  </tbody>\n",
       "</table>\n",
       "</div>"
      ],
      "text/plain": [
       "Empty DataFrame\n",
       "Columns: [Source, Body]\n",
       "Index: []"
      ]
     },
     "execution_count": 205,
     "metadata": {},
     "output_type": "execute_result"
    }
   ],
   "source": [
    "COLS = ['Source','Body']\n",
    "df = pd.DataFrame(data=None,columns=COLS)\n",
    "df"
   ]
  },
  {
   "cell_type": "code",
   "execution_count": 206,
   "metadata": {},
   "outputs": [],
   "source": [
    "def listToString(text):\n",
    "    str1 = \"\"\n",
    "    for t in text:\n",
    "        str1+=t\n",
    "    return str1"
   ]
  },
  {
   "cell_type": "code",
   "execution_count": 207,
   "metadata": {},
   "outputs": [
    {
     "name": "stdout",
     "output_type": "stream",
     "text": [
      "                                                Body\n",
      "0  Naik claimed this in a press conference held a...\n",
      "1  A day after Union Minister of State for AYUSH ...\n",
      "2  Union Minister of State for AYUSH, Shripad Nai...\n",
      "3  A recent viral rumour stated that Prince Charl...\n",
      "4  “Since Prince Charles is a patient of mine, I ...\n",
      "5  On April 2, Naik had told a press conference i...\n",
      "6  The claim is misleading. Ella Lynch, a spokesp...\n",
      "7  Within a day, however, British officials moved...\n"
     ]
    }
   ],
   "source": [
    "data = pd.read_csv(\"claims.csv\")\n",
    "claims = data.loc[:,[\"Body\"]]\n",
    "print(tt)"
   ]
  },
  {
   "cell_type": "code",
   "execution_count": 208,
   "metadata": {},
   "outputs": [],
   "source": [
    "with open(\"title.csv\",\"r\") as text:\n",
    "    titlerow = csv.reader(text)\n",
    "    for row in titlerow:\n",
    "        titleContent = row\n",
    "        title = listToString(titleContent)\n",
    "with open(\"body.csv\",\"r\") as text:\n",
    "    bodyrow = csv.reader(text)\n",
    "    for row in bodyrow:\n",
    "        bodyContent = row\n",
    "        body = listToString(bodyContent)"
   ]
  },
  {
   "cell_type": "code",
   "execution_count": 209,
   "metadata": {},
   "outputs": [
    {
     "data": {
      "text/plain": [
       "'Bengaluru Based Specialist cured Prince Charles of COVID-19Naik claimed this in a press conference held at his private residence near Panaji and also reiterated to Deccan Herald subsequently over the phone, that one Dr. Mathai who runs SOUKYA, a holistic health care center, in Bengaluru had informed him about curing Prince Charles of COVID-19 using alternative medicine techniques. However, a spokesperson of the Clarence House, issued a denial to Deccan Herald stating, This information is incorrect. The Prince of Wales followed the medical advice of the NHS in the UK  and nothing more.'"
      ]
     },
     "execution_count": 209,
     "metadata": {},
     "output_type": "execute_result"
    }
   ],
   "source": [
    "compare = title + body\n",
    "compare"
   ]
  },
  {
   "cell_type": "code",
   "execution_count": 210,
   "metadata": {},
   "outputs": [
    {
     "name": "stdout",
     "output_type": "stream",
     "text": [
      "('Naik claimed this in a press conference held at his private residence near Panaji and also reiterated to Deccan Herald subsequently over the phone, that one Dr. Mathai who runs SOUKYA, a holistic health care center, in Bengaluru had informed him about curing Prince Charles of COVID-19 using alternative medicine techniques. However, a spokesperson of the Clarence House, issued a denial to Deccan Herald stating, This information is incorrect. The Prince of Wales followed the medical advice of the NHS in the UK  and nothing more.', 'Naik claimed this in a press conference held at his private residence near Panaji and also reiterated to Deccan Herald subsequently over the phone, that one Dr. Mathai who runs SOUKYA, a holistic health care center, in Bengaluru had informed him about curing Prince Charles of COVID-19 using alternative medicine techniques. However, a spokesperson of the Clarence House, issued a denial to Deccan Herald stating, \"This information is incorrect. The Prince of Wales followed the medical advice of the NHS in the UK  and nothing more.\"', 'A day after Union Minister of State for AYUSH Shripad Naik claimed that Ayurvedic medicine helped Prince Charles, the second in line to the British crown, to be cured of coronavirus, the Prince’s spokesperson rejected the claim and said he “followed the medical advice of the NHS in the UK and nothing more”.', 'Union Minister of State for AYUSH, Shripad Naik claimed in a press briefing on April 2 that ayurvedic and homeopathic medicines helped Prince Charles, the apparent heir to the British throne, to be cured of COVID19. Naik was quoted as saying that this recovery “validates our age-old practise since thousands of years”. The source of information for the minister was a Bengaluru-based Ayurvedic doctor. In the press briefing, Naik said, “I received a phone call from Dr Isaac Mathai, who runs the Soukya Ayurveda Resort in Bengaluru. He told me that his treatment of Prince Charles through Ayurveda and Homeopathy has been successful. This is just one example of how the system can work”.  Prince Charles had tested positive for coronavirus last month and has since recovered.', 'A recent viral rumour stated that Prince Charles was cured of Coronavirus by using Ayurveda and Homeopathy. In a Press Briefing, which was also reported by PTI, Shri Shripad Naik, who is the Union Minister of State for AYUSH & MOS Defence, said that he had received a call from an Ayurveda practitioner who runs an ayurvedic resort named SOUKYA in Bengaluru, and he has claimed that his formula had cured Prince Charles of coronavirus, the formula was made by using Ayurveda and Homeopathy practices,', '“Since Prince Charles is a patient of mine, I won’t be able to talk about him in any public forum. He stayed here some months ago; I met him in London last month, but I cannot disclose what I prescribed to him,” Mathai said, adding that he has been prescribing the same medicine against “any viral condition with flu-like symptoms” to thousands of patients, but that he had “not treated a Covid-19 patient as of now”.Asked by HT to comment on whether Prince Charles’s recovery from Covid-19 was aided by advice from an ayurveda practitioner in Bengaluru, a spokesperson for the Prince of Wales in London said: “This information is incorrect. The Prince of Wales followed the medical advice of the National Health Service (NHS) in the UK and nothing more.”', 'On April 2, Naik had told a press conference in Goa, that Prince Charles had been cured of COVID-19 after seeking treatment from a Bengaluru-based alternative treatment resort, SOUKYA International Holistic Health Centre\\' run by a doctor Isaac Mathai.A day after his statement, Clarence House, the official residence of Prince Charles had said that the claim was incorrect, and that the royal \"followed the medical advice of the National Health Service in the UK and nothing more\". The royal had been diagnosed COVID-19 positive last month.', 'The claim is misleading. Ella Lynch, a spokesperson for Prince Charles has denied the claim and called it incorrect information. \"This information is incorrect. The Prince of Wales followed the medical advice of the NHS (National Health Service) in the UK and nothing more,\" The Indian Express quoted Ella Lynch, a spokesperson for the Prince of Wales as saying. Dr Isaac Mathai has said that Prince Charles is \"a patient of his\" and he would not comment on the issue.', 'Within a day, however, British officials moved to deflate India’s claim, saying that the Prince of Wales had been cured by UK’s National Health Service (NHS). Minister of state for AYUSH Shripad Naik stated at a widely-reported press conference in Goa that Prince Charles got cured of COVID-19 through Ayurveda and homeopathic treatment from an Ayurvedic resort in Bengaluru. This statement was repeated by various media outlets, including to news agency IANS. Naik stated that a doctor who runs a resort had informed him about treating Prince Charles successfully.')\n"
     ]
    }
   ],
   "source": [
    "text = pd.read_csv(\"claims.csv\")\n",
    "#text['Body'].values[0]\n",
    "tups = ()\n",
    "values = list(tups)\n",
    "values.append(body)\n",
    "for i in range(text.shape[0]):\n",
    "    val = text['Body'].values[i]\n",
    "    values.append(val)\n",
    "tups = tuple(values)\n",
    "print(tups)"
   ]
  },
  {
   "cell_type": "code",
   "execution_count": 211,
   "metadata": {},
   "outputs": [
    {
     "name": "stdout",
     "output_type": "stream",
     "text": [
      "(9, 172)\n",
      "[[1.         1.         0.17672688 0.15326559 0.12019919 0.20466887\n",
      "  0.2937605  0.22376427 0.16264362]]\n"
     ]
    }
   ],
   "source": [
    "tfidf_vectorizer = TfidfVectorizer(stop_words='english')\n",
    "#tfidf_feature_head = tfidf_vectorizer.fit_transform(bowHead)\n",
    "#tfidf_feature_body = tfidf_vectorizer.fit_transform(bowBody)\n",
    "#document = (headline, body, diff)\n",
    "tfidf_matrix = tfidf_vectorizer.fit_transform(tups)\n",
    "similar = cosine_similarity(tfidf_matrix[0:1], tfidf_matrix)\n",
    "print(tfidf_matrix.shape)\n",
    "print(similar)"
   ]
  },
  {
   "cell_type": "code",
   "execution_count": 212,
   "metadata": {},
   "outputs": [
    {
     "name": "stdout",
     "output_type": "stream",
     "text": [
      "1.0\n",
      "1.0\n",
      "0.1767268839220041\n",
      "0.15326559483079588\n",
      "0.12019918984351821\n",
      "0.20466887243599888\n",
      "0.2937604965747844\n",
      "0.22376426513406228\n",
      "0.16264361997171256\n"
     ]
    }
   ],
   "source": [
    "for x in np.nditer(similar):\n",
    "    print(x)"
   ]
  },
  {
   "cell_type": "code",
   "execution_count": null,
   "metadata": {},
   "outputs": [],
   "source": []
  }
 ],
 "metadata": {
  "kernelspec": {
   "display_name": "Python 3",
   "language": "python",
   "name": "python3"
  },
  "language_info": {
   "codemirror_mode": {
    "name": "ipython",
    "version": 3
   },
   "file_extension": ".py",
   "mimetype": "text/x-python",
   "name": "python",
   "nbconvert_exporter": "python",
   "pygments_lexer": "ipython3",
   "version": "3.7.6"
  }
 },
 "nbformat": 4,
 "nbformat_minor": 2
}
